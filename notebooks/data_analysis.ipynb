{
 "cells": [
  {
   "cell_type": "code",
   "execution_count": null,
   "metadata": {},
   "outputs": [],
   "source": [
    "import pandas as pd\n",
    "from sqlalchemy import create_engine\n",
    "from sqlalchemy import text\n"
   ]
  },
  {
   "cell_type": "code",
   "execution_count": null,
   "metadata": {},
   "outputs": [],
   "source": [
    "HOST = \"172.18.0.7\"\n",
    "PORT = \"5435\"\n",
    "USER = \"moodle_sink\"\n",
    "PASS = \"psqlpassword\"\n",
    "DB = \"sink\"\n",
    "CONNECTION_STR = f\"postgresql+psycopg2://{USER}:{PASS}@{HOST}/{DB}\"\n",
    "ENGINE = create_engine(CONNECTION_STR)\n",
    "\n",
    "\n"
   ]
  },
  {
   "cell_type": "code",
   "execution_count": null,
   "metadata": {},
   "outputs": [],
   "source": [
    "with ENGINE.connect() as conn:\n",
    "    select_sites_users = 'SELECT * FROM \"SitesUsers\";'\n",
    "    sites_users = pd.read_sql(sql=select_sites_users, con=conn)#, parse_dates=['registration_timestamp'])\n",
    "    select_community_users = 'SELECT * FROM \"CommunityUsers\";'\n",
    "    community_users = pd.read_sql(sql=select_community_users, con=conn)#, parse_dates=['registration_timestamp'])"
   ]
  },
  {
   "cell_type": "code",
   "execution_count": null,
   "metadata": {},
   "outputs": [],
   "source": [
    "sites_users['registration_timestamp'] = pd.to_datetime(sites_users['registration_timestamp'], unit=\"s\")\n",
    "community_users['registration_timestamp'] = pd.to_datetime(community_users['registration_timestamp'], unit=\"s\")\n"
   ]
  },
  {
   "cell_type": "markdown",
   "metadata": {},
   "source": [
    "# Data info"
   ]
  },
  {
   "cell_type": "code",
   "execution_count": null,
   "metadata": {},
   "outputs": [],
   "source": [
    "sites_users.info()"
   ]
  },
  {
   "cell_type": "code",
   "execution_count": null,
   "metadata": {},
   "outputs": [],
   "source": [
    "community_users.info()"
   ]
  },
  {
   "cell_type": "code",
   "execution_count": null,
   "metadata": {},
   "outputs": [],
   "source": [
    "sites_users.head()"
   ]
  },
  {
   "cell_type": "code",
   "execution_count": null,
   "metadata": {},
   "outputs": [],
   "source": [
    "sites_users['year'] = sites_users['registration_timestamp'].dt.year\n",
    "community_users['year'] = community_users['registration_timestamp'].dt.year"
   ]
  },
  {
   "cell_type": "code",
   "execution_count": null,
   "metadata": {},
   "outputs": [],
   "source": [
    "sites_users.groupby(\"year\")[\"admin_email\"].count().plot(kind=\"bar\", title=\"Site Users Count Per Year\", ylabel=\"Users Count\")\n"
   ]
  },
  {
   "cell_type": "code",
   "execution_count": null,
   "metadata": {},
   "outputs": [],
   "source": [
    "community_users.groupby(\"year\")[\"email\"].count().plot(kind=\"bar\", title=\"Community Users Count Per Year\", ylabel=\"Users Count\")\n"
   ]
  },
  {
   "cell_type": "code",
   "execution_count": null,
   "metadata": {},
   "outputs": [],
   "source": [
    "sites_users['email'] = sites_users['admin_email']"
   ]
  },
  {
   "cell_type": "code",
   "execution_count": null,
   "metadata": {},
   "outputs": [],
   "source": [
    "fourm_member_admins = sites_users[sites_users['admin_email'].isin(community_users['email'])]"
   ]
  },
  {
   "cell_type": "code",
   "execution_count": null,
   "metadata": {},
   "outputs": [],
   "source": [
    "fourm_member_admins.shape"
   ]
  },
  {
   "cell_type": "code",
   "execution_count": null,
   "metadata": {},
   "outputs": [],
   "source": [
    "fourm_member_admins"
   ]
  },
  {
   "cell_type": "code",
   "execution_count": null,
   "metadata": {},
   "outputs": [],
   "source": [
    "fourm_member_admins.groupby(\"year\")[\"admin_email\"].count().plot(kind=\"bar\", title=\"Site Admins that are also community users\", ylabel=\"count\")"
   ]
  },
  {
   "cell_type": "markdown",
   "metadata": {},
   "source": [
    "# user count by week of year"
   ]
  },
  {
   "cell_type": "code",
   "execution_count": null,
   "metadata": {},
   "outputs": [],
   "source": [
    "sites_users[\"week_of_year\"] = sites_users['registration_timestamp'].dt.isocalendar().week"
   ]
  }
 ],
 "metadata": {
  "kernelspec": {
   "display_name": "Python 3.10.6 ('venv': venv)",
   "language": "python",
   "name": "python3"
  },
  "language_info": {
   "codemirror_mode": {
    "name": "ipython",
    "version": 3
   },
   "file_extension": ".py",
   "mimetype": "text/x-python",
   "name": "python",
   "nbconvert_exporter": "python",
   "pygments_lexer": "ipython3",
   "version": "3.10.6"
  },
  "orig_nbformat": 4,
  "vscode": {
   "interpreter": {
    "hash": "32dc2aeaf012fd0666467d88c5afcf4bf3b0cfd1d59ca5b6e5b5b1b72e1d04b9"
   }
  }
 },
 "nbformat": 4,
 "nbformat_minor": 2
}
